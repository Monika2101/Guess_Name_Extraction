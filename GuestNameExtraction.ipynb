{
 "cells": [
  {
   "cell_type": "code",
   "execution_count": 1,
   "metadata": {},
   "outputs": [],
   "source": [
    "# importing Necessary libraries\n",
    "import spacy\n",
    "import csv\n",
    "import  en_core_web_sm\n",
    "from spacy import displacy\n",
    "nlp =  en_core_web_sm.load()"
   ]
  },
  {
   "cell_type": "code",
   "execution_count": 2,
   "metadata": {},
   "outputs": [],
   "source": [
    "#Reading, writing and creating new file to write extracted guest names\n",
    "\n",
    "f=open('podcasts_output.csv', 'w', encoding=\"utf8\", newline='')\n",
    "csvwriter=csv.writer(f)\n",
    "csvwriter.writerow(['id','show_name','episode_id','length','date','episode_name','description','guests'])\n",
    "counter=0\n",
    "with open('podcasts_data.csv', 'r', encoding=\"utf8\") as csvfile:\n",
    "\n",
    "    csvreader = csv.reader(csvfile)\n",
    "\n",
    "    # This skips the first row of the CSV file.\n",
    "    next(csvreader)\n",
    "\n",
    "    for row in csvreader:\n",
    "        text=row[6]\n",
    "        doc = nlp(text)\n",
    "        guests=[]\n",
    "        for ent in doc.ents:\n",
    "            if ent.label_=='PERSON':\n",
    "                guests.append(doc[ent.start:ent.end].text)\n",
    "        csvwriter.writerow(row+[str(guests)])        \n",
    "f.close()"
   ]
  },
  {
   "cell_type": "code",
   "execution_count": 3,
   "metadata": {},
   "outputs": [
    {
     "name": "stdout",
     "output_type": "stream",
     "text": [
      "[Kal Korff analyzes and discusses the recent November 2018 US midterm elections.]\n"
     ]
    }
   ],
   "source": [
    "# randomly select  sentence\n",
    "sentences = [x for x in doc.sents]\n",
    "print(sentences)"
   ]
  },
  {
   "cell_type": "code",
   "execution_count": 4,
   "metadata": {},
   "outputs": [
    {
     "data": {
      "text/html": [
       "<span class=\"tex2jax_ignore\"><div class=\"entities\" style=\"line-height: 2.5; direction: ltr\">[\n",
       "<mark class=\"entity\" style=\"background: #aa9cfc; padding: 0.45em 0.6em; margin: 0 0.25em; line-height: 1; border-radius: 0.35em;\">\n",
       "    Kal Korff\n",
       "    <span style=\"font-size: 0.8em; font-weight: bold; line-height: 1; border-radius: 0.35em; text-transform: uppercase; vertical-align: middle; margin-left: 0.5rem\">PERSON</span>\n",
       "</mark>\n",
       " analyzes and discusses the recent \n",
       "<mark class=\"entity\" style=\"background: #bfe1d9; padding: 0.45em 0.6em; margin: 0 0.25em; line-height: 1; border-radius: 0.35em;\">\n",
       "    November 2018\n",
       "    <span style=\"font-size: 0.8em; font-weight: bold; line-height: 1; border-radius: 0.35em; text-transform: uppercase; vertical-align: middle; margin-left: 0.5rem\">DATE</span>\n",
       "</mark>\n",
       " \n",
       "<mark class=\"entity\" style=\"background: #feca74; padding: 0.45em 0.6em; margin: 0 0.25em; line-height: 1; border-radius: 0.35em;\">\n",
       "    US\n",
       "    <span style=\"font-size: 0.8em; font-weight: bold; line-height: 1; border-radius: 0.35em; text-transform: uppercase; vertical-align: middle; margin-left: 0.5rem\">GPE</span>\n",
       "</mark>\n",
       " midterm elections.]</div></span>"
      ],
      "text/plain": [
       "<IPython.core.display.HTML object>"
      ]
     },
     "metadata": {},
     "output_type": "display_data"
    }
   ],
   "source": [
    "#runing displacy.render to generate the raw markup\n",
    "displacy.render(nlp(str(sentences)), jupyter=True,style='ent')"
   ]
  },
  {
   "cell_type": "code",
   "execution_count": 5,
   "metadata": {},
   "outputs": [],
   "source": [
    "# for testing \n",
    "text=\"Each weekday, ABC News updates the country's fight against the effects of the COVID-19 pandemic -- both medical and economic. We answer your questions about the latest outbreak numbers and treatment developments, and look at the cities and towns that are reopening, and what our new normal looks like. ABC's Chief Medical Correspondent Dr. Jennifer Ashton and other experts respond directly to questions submitted by ABC News listeners and viewers, and our team of correspondents and medical contributors keep you up to date on the latest news related to coronavirus. Hosted by Aaron Katersky.\""
   ]
  },
  {
   "cell_type": "code",
   "execution_count": 6,
   "metadata": {},
   "outputs": [],
   "source": [
    "doc = nlp(text)"
   ]
  },
  {
   "cell_type": "code",
   "execution_count": 7,
   "metadata": {},
   "outputs": [
    {
     "name": "stdout",
     "output_type": "stream",
     "text": [
      "Jennifer Ashton PERSON\n",
      "Aaron Katersky PERSON\n"
     ]
    }
   ],
   "source": [
    "# Extracting Persons only\n",
    "for ent in doc.ents:\n",
    "    if ent.label_=='PERSON':\n",
    "        print (doc[ent.start:ent.end].text,ent.label_)"
   ]
  },
  {
   "cell_type": "code",
   "execution_count": null,
   "metadata": {},
   "outputs": [],
   "source": []
  }
 ],
 "metadata": {
  "kernelspec": {
   "display_name": "Python 3",
   "language": "python",
   "name": "python3"
  },
  "language_info": {
   "codemirror_mode": {
    "name": "ipython",
    "version": 3
   },
   "file_extension": ".py",
   "mimetype": "text/x-python",
   "name": "python",
   "nbconvert_exporter": "python",
   "pygments_lexer": "ipython3",
   "version": "3.7.6"
  }
 },
 "nbformat": 4,
 "nbformat_minor": 2
}
